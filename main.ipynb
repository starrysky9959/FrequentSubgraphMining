{
 "cells": [
  {
   "cell_type": "code",
   "execution_count": 1,
   "metadata": {},
   "outputs": [],
   "source": [
    "\"\"\"\n",
    "Author: starrysky9959 starrysky9651@outlook.com\n",
    "Date: 2022-11-20 22:32:53\n",
    "LastEditors: starrysky9959 starrysky9651@outlook.com\n",
    "LastEditTime: 2022-11-20 23:10:10\n",
    "Description:  \n",
    "\"\"\"\n",
    "import sys\n",
    "import time\n",
    "import numpy as np\n",
    "# from src.Graph import Vertex, Edge\n",
    "from py_src.LoadData import load_edge, load_vertex\n",
    "\n",
    "\n",
    "\n"
   ]
  },
  {
   "cell_type": "code",
   "execution_count": 2,
   "metadata": {},
   "outputs": [
    {
     "name": "stdout",
     "output_type": "stream",
     "text": [
      "CPU times: user 58.8 s, sys: 2.52 s, total: 1min 1s\n",
      "Wall time: 1min 1s\n"
     ]
    }
   ],
   "source": [
    "%%time\n",
    "\n",
    "account_map = load_vertex(\"account\", \"account\")\n",
    "card_map = load_vertex(\"card\", \"card\")\n",
    "account_to_account_in_edges_map, account_to_account_out_edges_map = load_edge(\n",
    "    \"account_to_account\", \"account\", \"account\", account_map, account_map\n",
    ")\n",
    "account_to_card_in_edges_map, account_to_card_out_edges_map = load_edge(\n",
    "    \"account_to_card\", \"account\", \"card\", account_map, card_map\n",
    ")\n"
   ]
  },
  {
   "cell_type": "code",
   "execution_count": 3,
   "metadata": {},
   "outputs": [
    {
     "name": "stdout",
     "output_type": "stream",
     "text": [
      "41943136\n",
      "20971608\n",
      "41943136\n"
     ]
    }
   ],
   "source": [
    "print(sys.getsizeof(account_to_account_in_edges_map))\n",
    "# print(sys.getsizeof(account_to_account_in_edges_map[799999]))\n",
    "print(sys.getsizeof(card_map))\n",
    "print(sys.getsizeof(account_to_account_in_edges_map))\n"
   ]
  },
  {
   "cell_type": "code",
   "execution_count": 4,
   "metadata": {},
   "outputs": [
    {
     "name": "stdout",
     "output_type": "stream",
     "text": [
      "vertex size: 1400000\n",
      "('account', 799999, 'Jobs')\n",
      "average in-degree: 8.3\n",
      "728368\n"
     ]
    }
   ],
   "source": [
    "print(\n",
    "    \"vertex size: {}\".format(\n",
    "        len(account_map) + len(card_map),\n",
    "        # len(account_to_account_in_edges_map) + len(account_to_account_out_edges_map),\n",
    "    )\n",
    ")\n",
    "print(account_map[799999])\n",
    "# print(account_to_account_map[\"Jobs\"][0])\n",
    "cnt = 0\n",
    "i = 0\n",
    "for k, v in account_to_account_in_edges_map.items():\n",
    "    x = len(v)\n",
    "    i += 1\n",
    "    cnt += len(v)\n",
    "print(\"average in-degree: {0:.1f}\".format(cnt / i))\n",
    "print(len(account_to_account_in_edges_map.keys()))\n"
   ]
  },
  {
   "cell_type": "code",
   "execution_count": 6,
   "metadata": {},
   "outputs": [
    {
     "name": "stdout",
     "output_type": "stream",
     "text": [
      "1862064662\n",
      "CPU times: user 9.18 s, sys: 9.57 ms, total: 9.19 s\n",
      "Wall time: 9.19 s\n"
     ]
    }
   ],
   "source": [
    "%%time\n",
    "def encode(p):\n",
    "\n",
    "    pass\n",
    "\n",
    "\n",
    "def is_equal_pattern(p1, p2):\n",
    "    # return (p1[0]==)\n",
    "    pass\n",
    "\n",
    "# @jit\n",
    "def is_legal_pattern(v0,v1,v2,v3):\n",
    "    \"\"\"\n",
    "    pattern = tuple(vertex_0_id, edge_0, vertex_1_id, edge_1, vertex_2_id, edge_2, vertex_3_id)\n",
    "    pattern satisfy:\n",
    "        vertex_0_id < vertex_1_id < vertex_2_id < vertex_3\n",
    "        or\n",
    "        vertex_3 == vertex_0_id < vertex_1_id < vertex_2_id\n",
    "    \"\"\"\n",
    "    return (v0 < v1 and v1 < v2) and (v2 < v3 or v3 == v0)\n",
    "\n",
    "cnt = 0\n",
    "\n",
    "pattern_map = {}\n",
    "index = 0\n",
    "for vertex_1_id, edge_1_candidates in account_to_account_out_edges_map.items():\n",
    "    # index +=1\n",
    "    # if index>1:\n",
    "    #     break\n",
    "    # print(\"edge_1 size: {0}\".format(len(edge_1_candidates)))\n",
    "    vertex_1_name = account_map[vertex_1_id][\"name\"].item(0)\n",
    "    for edge_1 in edge_1_candidates:\n",
    "        vertex_2_id = edge_1[\"target_id\"].item(0)\n",
    "        vertex_2_name = edge_1[\"target_name\"].item(0)\n",
    "        # consider edge_0\n",
    "        # t1 = time.perf_counter()\n",
    "        edge_0_candidates = account_to_account_in_edges_map.get(vertex_1_id, None)\n",
    "        if edge_0_candidates is None:\n",
    "            continue\n",
    "        # t2 = time.perf_counter()\n",
    "        # print(\"[1] time cost: {0:.3f}\".format(1000*(t2-t1)))\n",
    "\n",
    "        # consider edge_2\n",
    "        # t1 = time.perf_counter()\n",
    "        edge_2_candidates = account_to_account_out_edges_map.get(vertex_2_id, None)\n",
    "        if edge_2_candidates is None:\n",
    "            continue\n",
    "        # t2 = time.perf_counter()\n",
    "        # print(\"[2] time cost: {0:.3f}\".format(1000*(t2-t1)))\n",
    "        # print(\"edge_0 size: {0}, edge_2 size: {1}\".format(len(edge_0_candidates), len(edge_2_candidates)))\n",
    "        cnt +=len(edge_0_candidates)*len(edge_2_candidates)\n",
    "        continue\n",
    "        for edge_0 in edge_0_candidates:\n",
    "            for edge_2 in edge_2_candidates:\n",
    "                # t1 = time.perf_counter()\n",
    "                vertex_0_id = edge_0[\"source_id\"].item(0)\n",
    "                vertex_0_name = edge_0[\"source_name\"].item(0)\n",
    "                vertex_3_id = edge_2[\"target_id\"].item(0)\n",
    "                vertex_3_name = edge_2[\"target_name\"].item(0)\n",
    "\n",
    "                if not is_legal_pattern(vertex_0_id, vertex_1_id, vertex_2_id,vertex_3_id):\n",
    "                    continue\n",
    "\n",
    "                pattern = (\n",
    "                    vertex_0_name,\n",
    "                    edge_0.item(0),\n",
    "                    vertex_1_name,\n",
    "                    edge_1.item(0),\n",
    "                    vertex_2_name,\n",
    "                    edge_2.item(0),\n",
    "                    vertex_3_name,\n",
    "                )\n",
    "\n",
    "                # t2 = time.perf_counter()\n",
    "                # print(\"[3] time cost: {0:.3f}\".format(1000*(t2-t1)))\n",
    "\n",
    "                # t1 = time.perf_counter()\n",
    "\n",
    "\n",
    "                # t2 = time.perf_counter()\n",
    "                # print(\"[4] time cost: {0:.3f}\".format(1000*(t2-t1)))\n",
    "\n",
    "                # print(edge_0.item(0))\n",
    "                # print(type(edge_0.item(0)))\n",
    "\n",
    "                # t1 = time.perf_counter()\n",
    "                pattern_map[pattern] = pattern_map.get(pattern, 0) + 1\n",
    "                # t2 = time.perf_counter()\n",
    "                # print(\"[5] time cost: {0:.3f}\".format(1000*(t2-t1)))\n",
    "\n",
    "print(cnt)"
   ]
  }
 ],
 "metadata": {
  "kernelspec": {
   "display_name": "Python 3.8.10 64-bit",
   "language": "python",
   "name": "python3"
  },
  "language_info": {
   "codemirror_mode": {
    "name": "ipython",
    "version": 3
   },
   "file_extension": ".py",
   "mimetype": "text/x-python",
   "name": "python",
   "nbconvert_exporter": "python",
   "pygments_lexer": "ipython3",
   "version": "3.8.10"
  },
  "orig_nbformat": 4,
  "vscode": {
   "interpreter": {
    "hash": "916dbcbb3f70747c44a77c7bcd40155683ae19c65e1c03b4aa3499c5328201f1"
   }
  }
 },
 "nbformat": 4,
 "nbformat_minor": 2
}
